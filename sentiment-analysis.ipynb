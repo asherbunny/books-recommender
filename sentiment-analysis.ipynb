{
 "cells": [
  {
   "cell_type": "code",
   "id": "initial_id",
   "metadata": {
    "collapsed": true,
    "ExecuteTime": {
     "end_time": "2025-09-08T22:44:21.316386Z",
     "start_time": "2025-09-08T22:44:21.230724Z"
    }
   },
   "source": [
    "import pandas as pd\n",
    "\n",
    "books = pd.read_csv(\"books_with_categories.csv\")"
   ],
   "outputs": [],
   "execution_count": 1
  },
  {
   "metadata": {
    "ExecuteTime": {
     "end_time": "2025-09-08T22:46:06.030107Z",
     "start_time": "2025-09-08T22:46:04.931192Z"
    }
   },
   "cell_type": "code",
   "source": [
    "import os\n",
    "os.environ[\"TRANSFORMERS_NO_TF\"] = \"1\"   # keep as belt-and-suspenders\n",
    "\n",
    "import torch\n",
    "from transformers import pipeline\n",
    "\n",
    "device = \"mps\" if torch.backends.mps.is_available() else -1  # fallback to CPU if needed\n",
    "\n",
    "# For text-classification, use return_all_scores=True instead of top_k=None\n",
    "classifier = pipeline(\n",
    "    \"text-classification\",\n",
    "    model=\"j-hartmann/emotion-english-distilroberta-base\",\n",
    "    framework=\"pt\",            # <- force PyTorch\n",
    "    device=device,\n",
    "    top_k=None     # <- get all label scores\n",
    ")\n",
    "\n",
    "print(classifier(\"I love this!\"))"
   ],
   "id": "e049404a280333a7",
   "outputs": [
    {
     "name": "stderr",
     "output_type": "stream",
     "text": [
      "Device set to use mps\n"
     ]
    },
    {
     "name": "stdout",
     "output_type": "stream",
     "text": [
      "[[{'label': 'surprise', 'score': 0.4869694709777832}, {'label': 'neutral', 'score': 0.22344161570072174}, {'label': 'joy', 'score': 0.14913079142570496}, {'label': 'anger', 'score': 0.07174032181501389}, {'label': 'sadness', 'score': 0.04664654657244682}, {'label': 'disgust', 'score': 0.016297748312354088}, {'label': 'fear', 'score': 0.005773564800620079}]]\n"
     ]
    }
   ],
   "execution_count": 3
  },
  {
   "metadata": {
    "ExecuteTime": {
     "end_time": "2025-09-08T22:48:32.344608Z",
     "start_time": "2025-09-08T22:48:32.337740Z"
    }
   },
   "cell_type": "code",
   "source": "books[\"description\"][0]",
   "id": "c6d041d8d9460199",
   "outputs": [
    {
     "data": {
      "text/plain": [
       "'A NOVEL THAT READERS and critics have been eagerly anticipating for over a decade, Gilead is an astonishingly imagined story of remarkable lives. John Ames is a preacher, the son of a preacher and the grandson (both maternal and paternal) of preachers. It’s 1956 in Gilead, Iowa, towards the end of the Reverend Ames’s life, and he is absorbed in recording his family’s story, a legacy for the young son he will never see grow up. Haunted by his grandfather’s presence, John tells of the rift between his grandfather and his father: the elder, an angry visionary who fought for the abolitionist cause, and his son, an ardent pacifist. He is troubled, too, by his prodigal namesake, Jack (John Ames) Boughton, his best friend’s lost son who returns to Gilead searching for forgiveness and redemption. Told in John Ames’s joyous, rambling voice that finds beauty, humour and truth in the smallest of life’s details, Gilead is a song of celebration and acceptance of the best and the worst the world has to offer. At its heart is a tale of the sacred bonds between fathers and sons, pitch-perfect in style and story, set to dazzle critics and readers alike.'"
      ]
     },
     "execution_count": 4,
     "metadata": {},
     "output_type": "execute_result"
    }
   ],
   "execution_count": 4
  },
  {
   "metadata": {
    "ExecuteTime": {
     "end_time": "2025-09-08T22:50:09.469158Z",
     "start_time": "2025-09-08T22:50:08.705267Z"
    }
   },
   "cell_type": "code",
   "source": "classifier(books[\"description\"][0])",
   "id": "765327de52e583bc",
   "outputs": [
    {
     "data": {
      "text/plain": [
       "[[{'label': 'fear', 'score': 0.6548408269882202},\n",
       "  {'label': 'neutral', 'score': 0.16985228657722473},\n",
       "  {'label': 'sadness', 'score': 0.11640898138284683},\n",
       "  {'label': 'surprise', 'score': 0.02070062980055809},\n",
       "  {'label': 'disgust', 'score': 0.019100766628980637},\n",
       "  {'label': 'joy', 'score': 0.015161330811679363},\n",
       "  {'label': 'anger', 'score': 0.003935159184038639}]]"
      ]
     },
     "execution_count": 5,
     "metadata": {},
     "output_type": "execute_result"
    }
   ],
   "execution_count": 5
  },
  {
   "metadata": {
    "ExecuteTime": {
     "end_time": "2025-09-08T22:51:55.604250Z",
     "start_time": "2025-09-08T22:51:53.047570Z"
    }
   },
   "cell_type": "code",
   "source": "classifier(books[\"description\"][0].split(\".\"))",
   "id": "6efe6f38019d42ef",
   "outputs": [
    {
     "data": {
      "text/plain": [
       "[[{'label': 'surprise', 'score': 0.7296028733253479},\n",
       "  {'label': 'neutral', 'score': 0.14038552343845367},\n",
       "  {'label': 'fear', 'score': 0.0681622177362442},\n",
       "  {'label': 'joy', 'score': 0.04794244095683098},\n",
       "  {'label': 'anger', 'score': 0.009156350046396255},\n",
       "  {'label': 'disgust', 'score': 0.002628473099321127},\n",
       "  {'label': 'sadness', 'score': 0.0021221598144620657}],\n",
       " [{'label': 'neutral', 'score': 0.449371874332428},\n",
       "  {'label': 'disgust', 'score': 0.2735903263092041},\n",
       "  {'label': 'joy', 'score': 0.1090828999876976},\n",
       "  {'label': 'sadness', 'score': 0.09362737089395523},\n",
       "  {'label': 'anger', 'score': 0.04047823324799538},\n",
       "  {'label': 'surprise', 'score': 0.026970192790031433},\n",
       "  {'label': 'fear', 'score': 0.006879065185785294}],\n",
       " [{'label': 'neutral', 'score': 0.6462164521217346},\n",
       "  {'label': 'sadness', 'score': 0.24273307621479034},\n",
       "  {'label': 'disgust', 'score': 0.04342260584235191},\n",
       "  {'label': 'surprise', 'score': 0.028300484642386436},\n",
       "  {'label': 'joy', 'score': 0.014211440458893776},\n",
       "  {'label': 'fear', 'score': 0.014084097929298878},\n",
       "  {'label': 'anger', 'score': 0.011031878180801868}],\n",
       " [{'label': 'fear', 'score': 0.9281686544418335},\n",
       "  {'label': 'anger', 'score': 0.03219059482216835},\n",
       "  {'label': 'neutral', 'score': 0.012808664701879025},\n",
       "  {'label': 'sadness', 'score': 0.008756848983466625},\n",
       "  {'label': 'surprise', 'score': 0.008597871288657188},\n",
       "  {'label': 'disgust', 'score': 0.008431798778474331},\n",
       "  {'label': 'joy', 'score': 0.0010455787414684892}],\n",
       " [{'label': 'sadness', 'score': 0.9671575427055359},\n",
       "  {'label': 'neutral', 'score': 0.015104164369404316},\n",
       "  {'label': 'disgust', 'score': 0.006480598822236061},\n",
       "  {'label': 'fear', 'score': 0.005393998231738806},\n",
       "  {'label': 'surprise', 'score': 0.002286941045895219},\n",
       "  {'label': 'anger', 'score': 0.0018428893527016044},\n",
       "  {'label': 'joy', 'score': 0.0017338788602501154}],\n",
       " [{'label': 'joy', 'score': 0.9327981472015381},\n",
       "  {'label': 'disgust', 'score': 0.03771701827645302},\n",
       "  {'label': 'neutral', 'score': 0.015891820192337036},\n",
       "  {'label': 'sadness', 'score': 0.006444488186389208},\n",
       "  {'label': 'anger', 'score': 0.005024965852499008},\n",
       "  {'label': 'surprise', 'score': 0.00158120587002486},\n",
       "  {'label': 'fear', 'score': 0.0005423062248155475}],\n",
       " [{'label': 'joy', 'score': 0.6528703570365906},\n",
       "  {'label': 'neutral', 'score': 0.2542748749256134},\n",
       "  {'label': 'surprise', 'score': 0.06808321923017502},\n",
       "  {'label': 'sadness', 'score': 0.009909003041684628},\n",
       "  {'label': 'disgust', 'score': 0.006512208841741085},\n",
       "  {'label': 'anger', 'score': 0.004821314942091703},\n",
       "  {'label': 'fear', 'score': 0.0035290217492729425}],\n",
       " [{'label': 'neutral', 'score': 0.6089330911636353},\n",
       "  {'label': 'disgust', 'score': 0.15766696631908417},\n",
       "  {'label': 'sadness', 'score': 0.07482504844665527},\n",
       "  {'label': 'anger', 'score': 0.05197301506996155},\n",
       "  {'label': 'surprise', 'score': 0.04693109914660454},\n",
       "  {'label': 'fear', 'score': 0.03878667578101158},\n",
       "  {'label': 'joy', 'score': 0.020884115248918533}]]"
      ]
     },
     "execution_count": 6,
     "metadata": {},
     "output_type": "execute_result"
    }
   ],
   "execution_count": 6
  },
  {
   "metadata": {
    "ExecuteTime": {
     "end_time": "2025-09-08T22:55:05.036698Z",
     "start_time": "2025-09-08T22:55:04.894730Z"
    }
   },
   "cell_type": "code",
   "source": [
    "sentences = books[\"description\"][0].split(\".\")\n",
    "predictions = classifier(sentences)"
   ],
   "id": "27219556018a0d82",
   "outputs": [],
   "execution_count": 8
  },
  {
   "metadata": {
    "ExecuteTime": {
     "end_time": "2025-09-08T22:55:23.256322Z",
     "start_time": "2025-09-08T22:55:23.251933Z"
    }
   },
   "cell_type": "code",
   "source": "sentences[0]",
   "id": "a649a5ff61be8811",
   "outputs": [
    {
     "data": {
      "text/plain": [
       "'A NOVEL THAT READERS and critics have been eagerly anticipating for over a decade, Gilead is an astonishingly imagined story of remarkable lives'"
      ]
     },
     "execution_count": 9,
     "metadata": {},
     "output_type": "execute_result"
    }
   ],
   "execution_count": 9
  },
  {
   "metadata": {
    "ExecuteTime": {
     "end_time": "2025-09-08T22:55:42.104151Z",
     "start_time": "2025-09-08T22:55:42.100562Z"
    }
   },
   "cell_type": "code",
   "source": "predictions[0]",
   "id": "f1e7416d6c527edf",
   "outputs": [
    {
     "data": {
      "text/plain": [
       "[{'label': 'surprise', 'score': 0.7296028733253479},\n",
       " {'label': 'neutral', 'score': 0.14038552343845367},\n",
       " {'label': 'fear', 'score': 0.0681622177362442},\n",
       " {'label': 'joy', 'score': 0.04794244095683098},\n",
       " {'label': 'anger', 'score': 0.009156350046396255},\n",
       " {'label': 'disgust', 'score': 0.002628473099321127},\n",
       " {'label': 'sadness', 'score': 0.0021221598144620657}]"
      ]
     },
     "execution_count": 10,
     "metadata": {},
     "output_type": "execute_result"
    }
   ],
   "execution_count": 10
  },
  {
   "metadata": {
    "ExecuteTime": {
     "end_time": "2025-09-08T22:56:12.946983Z",
     "start_time": "2025-09-08T22:56:12.942076Z"
    }
   },
   "cell_type": "code",
   "source": "sentences[3]",
   "id": "4d942ba236ea1466",
   "outputs": [
    {
     "data": {
      "text/plain": [
       "' Haunted by his grandfather’s presence, John tells of the rift between his grandfather and his father: the elder, an angry visionary who fought for the abolitionist cause, and his son, an ardent pacifist'"
      ]
     },
     "execution_count": 11,
     "metadata": {},
     "output_type": "execute_result"
    }
   ],
   "execution_count": 11
  },
  {
   "metadata": {
    "ExecuteTime": {
     "end_time": "2025-09-08T22:56:19.393735Z",
     "start_time": "2025-09-08T22:56:19.388988Z"
    }
   },
   "cell_type": "code",
   "source": "predictions[3]",
   "id": "4d62db41ed6e6115",
   "outputs": [
    {
     "data": {
      "text/plain": [
       "[{'label': 'fear', 'score': 0.9281686544418335},\n",
       " {'label': 'anger', 'score': 0.03219059482216835},\n",
       " {'label': 'neutral', 'score': 0.012808664701879025},\n",
       " {'label': 'sadness', 'score': 0.008756848983466625},\n",
       " {'label': 'surprise', 'score': 0.008597871288657188},\n",
       " {'label': 'disgust', 'score': 0.008431798778474331},\n",
       " {'label': 'joy', 'score': 0.0010455787414684892}]"
      ]
     },
     "execution_count": 12,
     "metadata": {},
     "output_type": "execute_result"
    }
   ],
   "execution_count": 12
  },
  {
   "metadata": {
    "ExecuteTime": {
     "end_time": "2025-09-08T22:57:51.039002Z",
     "start_time": "2025-09-08T22:57:51.033582Z"
    }
   },
   "cell_type": "code",
   "source": "predictions",
   "id": "24ce5f48b737be87",
   "outputs": [
    {
     "data": {
      "text/plain": [
       "[[{'label': 'surprise', 'score': 0.7296028733253479},\n",
       "  {'label': 'neutral', 'score': 0.14038552343845367},\n",
       "  {'label': 'fear', 'score': 0.0681622177362442},\n",
       "  {'label': 'joy', 'score': 0.04794244095683098},\n",
       "  {'label': 'anger', 'score': 0.009156350046396255},\n",
       "  {'label': 'disgust', 'score': 0.002628473099321127},\n",
       "  {'label': 'sadness', 'score': 0.0021221598144620657}],\n",
       " [{'label': 'neutral', 'score': 0.449371874332428},\n",
       "  {'label': 'disgust', 'score': 0.2735903263092041},\n",
       "  {'label': 'joy', 'score': 0.1090828999876976},\n",
       "  {'label': 'sadness', 'score': 0.09362737089395523},\n",
       "  {'label': 'anger', 'score': 0.04047823324799538},\n",
       "  {'label': 'surprise', 'score': 0.026970192790031433},\n",
       "  {'label': 'fear', 'score': 0.006879065185785294}],\n",
       " [{'label': 'neutral', 'score': 0.6462164521217346},\n",
       "  {'label': 'sadness', 'score': 0.24273307621479034},\n",
       "  {'label': 'disgust', 'score': 0.04342260584235191},\n",
       "  {'label': 'surprise', 'score': 0.028300484642386436},\n",
       "  {'label': 'joy', 'score': 0.014211440458893776},\n",
       "  {'label': 'fear', 'score': 0.014084097929298878},\n",
       "  {'label': 'anger', 'score': 0.011031878180801868}],\n",
       " [{'label': 'fear', 'score': 0.9281686544418335},\n",
       "  {'label': 'anger', 'score': 0.03219059482216835},\n",
       "  {'label': 'neutral', 'score': 0.012808664701879025},\n",
       "  {'label': 'sadness', 'score': 0.008756848983466625},\n",
       "  {'label': 'surprise', 'score': 0.008597871288657188},\n",
       "  {'label': 'disgust', 'score': 0.008431798778474331},\n",
       "  {'label': 'joy', 'score': 0.0010455787414684892}],\n",
       " [{'label': 'sadness', 'score': 0.9671575427055359},\n",
       "  {'label': 'neutral', 'score': 0.015104164369404316},\n",
       "  {'label': 'disgust', 'score': 0.006480598822236061},\n",
       "  {'label': 'fear', 'score': 0.005393998231738806},\n",
       "  {'label': 'surprise', 'score': 0.002286941045895219},\n",
       "  {'label': 'anger', 'score': 0.0018428893527016044},\n",
       "  {'label': 'joy', 'score': 0.0017338788602501154}],\n",
       " [{'label': 'joy', 'score': 0.9327981472015381},\n",
       "  {'label': 'disgust', 'score': 0.03771701827645302},\n",
       "  {'label': 'neutral', 'score': 0.015891820192337036},\n",
       "  {'label': 'sadness', 'score': 0.006444488186389208},\n",
       "  {'label': 'anger', 'score': 0.005024965852499008},\n",
       "  {'label': 'surprise', 'score': 0.00158120587002486},\n",
       "  {'label': 'fear', 'score': 0.0005423062248155475}],\n",
       " [{'label': 'joy', 'score': 0.6528703570365906},\n",
       "  {'label': 'neutral', 'score': 0.2542748749256134},\n",
       "  {'label': 'surprise', 'score': 0.06808321923017502},\n",
       "  {'label': 'sadness', 'score': 0.009909003041684628},\n",
       "  {'label': 'disgust', 'score': 0.006512208841741085},\n",
       "  {'label': 'anger', 'score': 0.004821314942091703},\n",
       "  {'label': 'fear', 'score': 0.0035290217492729425}],\n",
       " [{'label': 'neutral', 'score': 0.6089330911636353},\n",
       "  {'label': 'disgust', 'score': 0.15766696631908417},\n",
       "  {'label': 'sadness', 'score': 0.07482504844665527},\n",
       "  {'label': 'anger', 'score': 0.05197301506996155},\n",
       "  {'label': 'surprise', 'score': 0.04693109914660454},\n",
       "  {'label': 'fear', 'score': 0.03878667578101158},\n",
       "  {'label': 'joy', 'score': 0.020884115248918533}]]"
      ]
     },
     "execution_count": 13,
     "metadata": {},
     "output_type": "execute_result"
    }
   ],
   "execution_count": 13
  },
  {
   "metadata": {
    "ExecuteTime": {
     "end_time": "2025-09-08T23:00:47.595791Z",
     "start_time": "2025-09-08T23:00:47.586490Z"
    }
   },
   "cell_type": "code",
   "source": "sorted(predictions[0], key=lambda x: x[\"label\"])",
   "id": "8deee9b33f9219ff",
   "outputs": [
    {
     "data": {
      "text/plain": [
       "[{'label': 'anger', 'score': 0.009156350046396255},\n",
       " {'label': 'disgust', 'score': 0.002628473099321127},\n",
       " {'label': 'fear', 'score': 0.0681622177362442},\n",
       " {'label': 'joy', 'score': 0.04794244095683098},\n",
       " {'label': 'neutral', 'score': 0.14038552343845367},\n",
       " {'label': 'sadness', 'score': 0.0021221598144620657},\n",
       " {'label': 'surprise', 'score': 0.7296028733253479}]"
      ]
     },
     "execution_count": 14,
     "metadata": {},
     "output_type": "execute_result"
    }
   ],
   "execution_count": 14
  },
  {
   "metadata": {
    "ExecuteTime": {
     "end_time": "2025-09-08T23:22:13.384729Z",
     "start_time": "2025-09-08T23:22:13.377897Z"
    }
   },
   "cell_type": "code",
   "source": [
    "import numpy as np\n",
    "\n",
    "emotion_labels = [\"anger\", \"disgust\", \"fear\", \"joy\", \"sadness\", \"surprise\", \"neutral\"]\n",
    "isbn = []\n",
    "emotion_scores = {label: [] for label in emotion_labels}\n",
    "\n",
    "def calculate_max_emotion_scores(predictions):\n",
    "    per_emotion_scores = {label: [] for label in emotion_labels}\n",
    "    for prediction in predictions:\n",
    "        sorted_predictions = sorted(prediction, key=lambda x: x[\"label\"])\n",
    "        for index, label in enumerate(emotion_labels):\n",
    "            per_emotion_scores[label].append(sorted_predictions[index][\"score\"])\n",
    "    return {label: np.max(scores) for label, scores in per_emotion_scores.items()}"
   ],
   "id": "df8b13f522c4d71c",
   "outputs": [],
   "execution_count": 21
  },
  {
   "metadata": {
    "ExecuteTime": {
     "end_time": "2025-09-08T23:22:18.139276Z",
     "start_time": "2025-09-08T23:22:14.124209Z"
    }
   },
   "cell_type": "code",
   "source": [
    "for i in range(10):\n",
    "    isbn.append(books[\"isbn13\"][i])\n",
    "    sentences = books[\"description\"][i].split(\".\")\n",
    "    predictions = classifier(sentences)\n",
    "    max_scores = calculate_max_emotion_scores(predictions)\n",
    "    for label in emotion_labels:\n",
    "        emotion_scores[label].append(max_scores[label])"
   ],
   "id": "8f256561faa15533",
   "outputs": [],
   "execution_count": 22
  },
  {
   "metadata": {
    "ExecuteTime": {
     "end_time": "2025-09-08T23:22:42.004386Z",
     "start_time": "2025-09-08T23:22:41.995187Z"
    }
   },
   "cell_type": "code",
   "source": "emotion_scores",
   "id": "90d207d9ced0fd8e",
   "outputs": [
    {
     "data": {
      "text/plain": [
       "{'anger': [np.float64(0.05197301506996155),\n",
       "  np.float64(0.612617552280426),\n",
       "  np.float64(0.05197301506996155),\n",
       "  np.float64(0.35148298740386963),\n",
       "  np.float64(0.08141248673200607),\n",
       "  np.float64(0.23222501575946808),\n",
       "  np.float64(0.5381847620010376),\n",
       "  np.float64(0.05197301506996155),\n",
       "  np.float64(0.3006705939769745),\n",
       "  np.float64(0.05197301506996155)],\n",
       " 'disgust': [np.float64(0.2735903263092041),\n",
       "  np.float64(0.34828588366508484),\n",
       "  np.float64(0.15766696631908417),\n",
       "  np.float64(0.15766696631908417),\n",
       "  np.float64(0.1844954490661621),\n",
       "  np.float64(0.727174699306488),\n",
       "  np.float64(0.15766696631908417),\n",
       "  np.float64(0.15766696631908417),\n",
       "  np.float64(0.27948102355003357),\n",
       "  np.float64(0.17792603373527527)],\n",
       " 'fear': [np.float64(0.9281686544418335),\n",
       "  np.float64(0.9425276517868042),\n",
       "  np.float64(0.9723208546638489),\n",
       "  np.float64(0.3607071340084076),\n",
       "  np.float64(0.09504334628582001),\n",
       "  np.float64(0.03878667578101158),\n",
       "  np.float64(0.7474280595779419),\n",
       "  np.float64(0.404496431350708),\n",
       "  np.float64(0.9155241250991821),\n",
       "  np.float64(0.04945683106780052)],\n",
       " 'joy': [np.float64(0.9327981472015381),\n",
       "  np.float64(0.70442134141922),\n",
       "  np.float64(0.7672370672225952),\n",
       "  np.float64(0.2518808841705322),\n",
       "  np.float64(0.03520685061812401),\n",
       "  np.float64(0.04337587207555771),\n",
       "  np.float64(0.8725654482841492),\n",
       "  np.float64(0.020884115248918533),\n",
       "  np.float64(0.021228492259979248),\n",
       "  np.float64(0.03219762071967125)],\n",
       " 'sadness': [np.float64(0.6462164521217346),\n",
       "  np.float64(0.8879395127296448),\n",
       "  np.float64(0.6089330911636353),\n",
       "  np.float64(0.7326866984367371),\n",
       "  np.float64(0.9259037375450134),\n",
       "  np.float64(0.6213926672935486),\n",
       "  np.float64(0.712194561958313),\n",
       "  np.float64(0.6089330911636353),\n",
       "  np.float64(0.8402897119522095),\n",
       "  np.float64(0.8874107599258423)],\n",
       " 'surprise': [np.float64(0.9671575427055359),\n",
       "  np.float64(0.07482504844665527),\n",
       "  np.float64(0.07482504844665527),\n",
       "  np.float64(0.07482504844665527),\n",
       "  np.float64(0.4758807420730591),\n",
       "  np.float64(0.10239038616418839),\n",
       "  np.float64(0.40799927711486816),\n",
       "  np.float64(0.8202818036079407),\n",
       "  np.float64(0.3544587790966034),\n",
       "  np.float64(0.07482504844665527)],\n",
       " 'neutral': [np.float64(0.7296028733253479),\n",
       "  np.float64(0.2525448203086853),\n",
       "  np.float64(0.04693109914660454),\n",
       "  np.float64(0.04693109914660454),\n",
       "  np.float64(0.04693109914660454),\n",
       "  np.float64(0.27190274000167847),\n",
       "  np.float64(0.07205025851726532),\n",
       "  np.float64(0.23448775708675385),\n",
       "  np.float64(0.13561494648456573),\n",
       "  np.float64(0.047141849994659424)]}"
      ]
     },
     "execution_count": 23,
     "metadata": {},
     "output_type": "execute_result"
    }
   ],
   "execution_count": 23
  },
  {
   "metadata": {
    "ExecuteTime": {
     "end_time": "2025-09-08T23:29:31.930100Z",
     "start_time": "2025-09-08T23:23:48.815773Z"
    }
   },
   "cell_type": "code",
   "source": [
    "from tqdm import tqdm\n",
    "\n",
    "emotion_labels = [\"anger\", \"disgust\", \"fear\", \"joy\", \"sadness\", \"surprise\", \"neutral\"]\n",
    "isbn = []\n",
    "emotion_scores = {label: [] for label in emotion_labels}\n",
    "\n",
    "for i in tqdm(range(len(books))):\n",
    "    isbn.append(books[\"isbn13\"][i])\n",
    "    sentences = books[\"description\"][i].split(\".\")\n",
    "    predictions = classifier(sentences)\n",
    "    max_scores = calculate_max_emotion_scores(predictions)\n",
    "    for label in emotion_labels:\n",
    "        emotion_scores[label].append(max_scores[label])"
   ],
   "id": "9f01e81695b97e11",
   "outputs": [
    {
     "name": "stderr",
     "output_type": "stream",
     "text": [
      "100%|██████████| 5197/5197 [05:43<00:00, 15.15it/s]\n"
     ]
    }
   ],
   "execution_count": 24
  },
  {
   "metadata": {
    "ExecuteTime": {
     "end_time": "2025-09-08T23:30:54.758172Z",
     "start_time": "2025-09-08T23:30:54.728580Z"
    }
   },
   "cell_type": "code",
   "source": [
    "emotions_df = pd.DataFrame(emotion_scores)\n",
    "emotions_df[\"isbn13\"] = isbn"
   ],
   "id": "d41f84fafe3897d6",
   "outputs": [],
   "execution_count": 25
  },
  {
   "metadata": {
    "ExecuteTime": {
     "end_time": "2025-09-08T23:31:10.992517Z",
     "start_time": "2025-09-08T23:31:10.979484Z"
    }
   },
   "cell_type": "code",
   "source": "emotions_df.head()",
   "id": "9a705eff25a50da6",
   "outputs": [
    {
     "data": {
      "text/plain": [
       "      anger   disgust      fear       joy   sadness  surprise   neutral  \\\n",
       "0  0.051973  0.273590  0.928169  0.932798  0.646216  0.967158  0.729603   \n",
       "1  0.612618  0.348286  0.942528  0.704421  0.887940  0.074825  0.252545   \n",
       "2  0.051973  0.157667  0.972321  0.767237  0.608933  0.074825  0.046931   \n",
       "3  0.351483  0.157667  0.360707  0.251881  0.732687  0.074825  0.046931   \n",
       "4  0.081412  0.184495  0.095043  0.035207  0.925904  0.475881  0.046931   \n",
       "\n",
       "          isbn13  \n",
       "0  9780002005883  \n",
       "1  9780002261982  \n",
       "2  9780006178736  \n",
       "3  9780006280897  \n",
       "4  9780006280934  "
      ],
      "text/html": [
       "<div>\n",
       "<style scoped>\n",
       "    .dataframe tbody tr th:only-of-type {\n",
       "        vertical-align: middle;\n",
       "    }\n",
       "\n",
       "    .dataframe tbody tr th {\n",
       "        vertical-align: top;\n",
       "    }\n",
       "\n",
       "    .dataframe thead th {\n",
       "        text-align: right;\n",
       "    }\n",
       "</style>\n",
       "<table border=\"1\" class=\"dataframe\">\n",
       "  <thead>\n",
       "    <tr style=\"text-align: right;\">\n",
       "      <th></th>\n",
       "      <th>anger</th>\n",
       "      <th>disgust</th>\n",
       "      <th>fear</th>\n",
       "      <th>joy</th>\n",
       "      <th>sadness</th>\n",
       "      <th>surprise</th>\n",
       "      <th>neutral</th>\n",
       "      <th>isbn13</th>\n",
       "    </tr>\n",
       "  </thead>\n",
       "  <tbody>\n",
       "    <tr>\n",
       "      <th>0</th>\n",
       "      <td>0.051973</td>\n",
       "      <td>0.273590</td>\n",
       "      <td>0.928169</td>\n",
       "      <td>0.932798</td>\n",
       "      <td>0.646216</td>\n",
       "      <td>0.967158</td>\n",
       "      <td>0.729603</td>\n",
       "      <td>9780002005883</td>\n",
       "    </tr>\n",
       "    <tr>\n",
       "      <th>1</th>\n",
       "      <td>0.612618</td>\n",
       "      <td>0.348286</td>\n",
       "      <td>0.942528</td>\n",
       "      <td>0.704421</td>\n",
       "      <td>0.887940</td>\n",
       "      <td>0.074825</td>\n",
       "      <td>0.252545</td>\n",
       "      <td>9780002261982</td>\n",
       "    </tr>\n",
       "    <tr>\n",
       "      <th>2</th>\n",
       "      <td>0.051973</td>\n",
       "      <td>0.157667</td>\n",
       "      <td>0.972321</td>\n",
       "      <td>0.767237</td>\n",
       "      <td>0.608933</td>\n",
       "      <td>0.074825</td>\n",
       "      <td>0.046931</td>\n",
       "      <td>9780006178736</td>\n",
       "    </tr>\n",
       "    <tr>\n",
       "      <th>3</th>\n",
       "      <td>0.351483</td>\n",
       "      <td>0.157667</td>\n",
       "      <td>0.360707</td>\n",
       "      <td>0.251881</td>\n",
       "      <td>0.732687</td>\n",
       "      <td>0.074825</td>\n",
       "      <td>0.046931</td>\n",
       "      <td>9780006280897</td>\n",
       "    </tr>\n",
       "    <tr>\n",
       "      <th>4</th>\n",
       "      <td>0.081412</td>\n",
       "      <td>0.184495</td>\n",
       "      <td>0.095043</td>\n",
       "      <td>0.035207</td>\n",
       "      <td>0.925904</td>\n",
       "      <td>0.475881</td>\n",
       "      <td>0.046931</td>\n",
       "      <td>9780006280934</td>\n",
       "    </tr>\n",
       "  </tbody>\n",
       "</table>\n",
       "</div>"
      ]
     },
     "execution_count": 26,
     "metadata": {},
     "output_type": "execute_result"
    }
   ],
   "execution_count": 26
  },
  {
   "metadata": {
    "ExecuteTime": {
     "end_time": "2025-09-08T23:32:52.050512Z",
     "start_time": "2025-09-08T23:32:52.024001Z"
    }
   },
   "cell_type": "code",
   "source": "books = pd.merge(books, emotions_df, on=\"isbn13\")",
   "id": "829d88132cf9b38a",
   "outputs": [],
   "execution_count": 27
  },
  {
   "metadata": {
    "ExecuteTime": {
     "end_time": "2025-09-08T23:32:55.390430Z",
     "start_time": "2025-09-08T23:32:55.366442Z"
    }
   },
   "cell_type": "code",
   "source": "books",
   "id": "1ea14fba370f804e",
   "outputs": [
    {
     "data": {
      "text/plain": [
       "             isbn13      isbn10  \\\n",
       "0     9780002005883  0002005883   \n",
       "1     9780002261982  0002261987   \n",
       "2     9780006178736  0006178731   \n",
       "3     9780006280897  0006280897   \n",
       "4     9780006280934  0006280935   \n",
       "...             ...         ...   \n",
       "5192  9788172235222  8172235224   \n",
       "5193  9788173031014  8173031010   \n",
       "5194  9788179921623  817992162X   \n",
       "5195  9788185300535  8185300534   \n",
       "5196  9789027712059  9027712050   \n",
       "\n",
       "                                                  title  \\\n",
       "0                                                Gilead   \n",
       "1                                          Spider's Web   \n",
       "2                                        Rage of angels   \n",
       "3                                        The Four Loves   \n",
       "4                                   The Problem of Pain   \n",
       "...                                                 ...   \n",
       "5192                                  Mistaken Identity   \n",
       "5193                                Journey to the East   \n",
       "5194  The Monk Who Sold His Ferrari: A Fable About F...   \n",
       "5195                                          I Am that   \n",
       "5196                           The Berlin Phenomenology   \n",
       "\n",
       "                                           authors  \\\n",
       "0                               Marilynne Robinson   \n",
       "1                  Charles Osborne;Agatha Christie   \n",
       "2                                   Sidney Sheldon   \n",
       "3                              Clive Staples Lewis   \n",
       "4                              Clive Staples Lewis   \n",
       "...                                            ...   \n",
       "5192                              Nayantara Sahgal   \n",
       "5193                                 Hermann Hesse   \n",
       "5194                                  Robin Sharma   \n",
       "5195  Sri Nisargadatta Maharaj;Sudhakar S. Dikshit   \n",
       "5196                 Georg Wilhelm Friedrich Hegel   \n",
       "\n",
       "                         categories  \\\n",
       "0                           Fiction   \n",
       "1     Detective and mystery stories   \n",
       "2                           Fiction   \n",
       "3                    Christian life   \n",
       "4                    Christian life   \n",
       "...                             ...   \n",
       "5192        Indic fiction (English)   \n",
       "5193              Adventure stories   \n",
       "5194               Health & Fitness   \n",
       "5195                     Philosophy   \n",
       "5196                        History   \n",
       "\n",
       "                                              thumbnail  \\\n",
       "0     http://books.google.com/books/content?id=KQZCP...   \n",
       "1     http://books.google.com/books/content?id=gA5GP...   \n",
       "2     http://books.google.com/books/content?id=FKo2T...   \n",
       "3     http://books.google.com/books/content?id=XhQ5X...   \n",
       "4     http://books.google.com/books/content?id=Kk-uV...   \n",
       "...                                                 ...   \n",
       "5192  http://books.google.com/books/content?id=q-tKP...   \n",
       "5193  http://books.google.com/books/content?id=rq6JP...   \n",
       "5194  http://books.google.com/books/content?id=c_7mf...   \n",
       "5195  http://books.google.com/books/content?id=Fv_JP...   \n",
       "5196  http://books.google.com/books/content?id=Vy7Sk...   \n",
       "\n",
       "                                            description  published_year  \\\n",
       "0     A NOVEL THAT READERS and critics have been eag...          2004.0   \n",
       "1     A new 'Christie for Christmas' -- a full-lengt...          2000.0   \n",
       "2     A memorable, mesmerizing heroine Jennifer -- b...          1993.0   \n",
       "3     Lewis' work on the nature of love divides love...          2002.0   \n",
       "4     \"In The Problem of Pain, C.S. Lewis, one of th...          2002.0   \n",
       "...                                                 ...             ...   \n",
       "5192  On A Train Journey Home To North India After L...          2003.0   \n",
       "5193  This book tells the tale of a man who goes on ...          2002.0   \n",
       "5194  Wisdom to Create a Life of Passion, Purpose, a...          2003.0   \n",
       "5195  This collection of the timeless teachings of o...          1999.0   \n",
       "5196  Since the three volume edition ofHegel's Philo...          1981.0   \n",
       "\n",
       "      average_rating  num_pages  ...  \\\n",
       "0               3.85      247.0  ...   \n",
       "1               3.83      241.0  ...   \n",
       "2               3.93      512.0  ...   \n",
       "3               4.15      170.0  ...   \n",
       "4               4.09      176.0  ...   \n",
       "...              ...        ...  ...   \n",
       "5192            2.93      324.0  ...   \n",
       "5193            3.70      175.0  ...   \n",
       "5194            3.82      198.0  ...   \n",
       "5195            4.51      531.0  ...   \n",
       "5196            0.00      210.0  ...   \n",
       "\n",
       "                                     title_and_subtitle  \\\n",
       "0                                                Gilead   \n",
       "1                                 Spider's Web: A Novel   \n",
       "2                                        Rage of angels   \n",
       "3                                        The Four Loves   \n",
       "4                                   The Problem of Pain   \n",
       "...                                                 ...   \n",
       "5192                                  Mistaken Identity   \n",
       "5193                                Journey to the East   \n",
       "5194  The Monk Who Sold His Ferrari: A Fable About F...   \n",
       "5195     I Am that: Talks with Sri Nisargadatta Maharaj   \n",
       "5196                           The Berlin Phenomenology   \n",
       "\n",
       "                                     tagged_description simple_categories  \\\n",
       "0     9780002005883 A NOVEL THAT READERS and critics...           Fiction   \n",
       "1     9780002261982 A new 'Christie for Christmas' -...           Fiction   \n",
       "2     9780006178736 A memorable, mesmerizing heroine...           Fiction   \n",
       "3     9780006280897 Lewis' work on the nature of lov...        Nonfiction   \n",
       "4     9780006280934 \"In The Problem of Pain, C.S. Le...        Nonfiction   \n",
       "...                                                 ...               ...   \n",
       "5192  9788172235222 On A Train Journey Home To North...           Fiction   \n",
       "5193  9788173031014 This book tells the tale of a ma...        Nonfiction   \n",
       "5194  9788179921623 Wisdom to Create a Life of Passi...           Fiction   \n",
       "5195  9788185300535 This collection of the timeless ...        Nonfiction   \n",
       "5196  9789027712059 Since the three volume edition o...        Nonfiction   \n",
       "\n",
       "         anger   disgust      fear       joy   sadness  surprise   neutral  \n",
       "0     0.051973  0.273590  0.928169  0.932798  0.646216  0.967158  0.729603  \n",
       "1     0.612618  0.348286  0.942528  0.704421  0.887940  0.074825  0.252545  \n",
       "2     0.051973  0.157667  0.972321  0.767237  0.608933  0.074825  0.046931  \n",
       "3     0.351483  0.157667  0.360707  0.251881  0.732687  0.074825  0.046931  \n",
       "4     0.081412  0.184495  0.095043  0.035207  0.925904  0.475881  0.046931  \n",
       "...        ...       ...       ...       ...       ...       ...       ...  \n",
       "5192  0.148209  0.030642  0.919165  0.255170  0.853722  0.980877  0.030656  \n",
       "5193  0.057145  0.157667  0.038787  0.400263  0.883198  0.074825  0.227765  \n",
       "5194  0.009997  0.009929  0.339216  0.947778  0.375756  0.066685  0.057625  \n",
       "5195  0.051973  0.157667  0.459269  0.759455  0.951104  0.368109  0.067808  \n",
       "5196  0.051973  0.157667  0.038787  0.958549  0.915193  0.074825  0.046931  \n",
       "\n",
       "[5197 rows x 21 columns]"
      ],
      "text/html": [
       "<div>\n",
       "<style scoped>\n",
       "    .dataframe tbody tr th:only-of-type {\n",
       "        vertical-align: middle;\n",
       "    }\n",
       "\n",
       "    .dataframe tbody tr th {\n",
       "        vertical-align: top;\n",
       "    }\n",
       "\n",
       "    .dataframe thead th {\n",
       "        text-align: right;\n",
       "    }\n",
       "</style>\n",
       "<table border=\"1\" class=\"dataframe\">\n",
       "  <thead>\n",
       "    <tr style=\"text-align: right;\">\n",
       "      <th></th>\n",
       "      <th>isbn13</th>\n",
       "      <th>isbn10</th>\n",
       "      <th>title</th>\n",
       "      <th>authors</th>\n",
       "      <th>categories</th>\n",
       "      <th>thumbnail</th>\n",
       "      <th>description</th>\n",
       "      <th>published_year</th>\n",
       "      <th>average_rating</th>\n",
       "      <th>num_pages</th>\n",
       "      <th>...</th>\n",
       "      <th>title_and_subtitle</th>\n",
       "      <th>tagged_description</th>\n",
       "      <th>simple_categories</th>\n",
       "      <th>anger</th>\n",
       "      <th>disgust</th>\n",
       "      <th>fear</th>\n",
       "      <th>joy</th>\n",
       "      <th>sadness</th>\n",
       "      <th>surprise</th>\n",
       "      <th>neutral</th>\n",
       "    </tr>\n",
       "  </thead>\n",
       "  <tbody>\n",
       "    <tr>\n",
       "      <th>0</th>\n",
       "      <td>9780002005883</td>\n",
       "      <td>0002005883</td>\n",
       "      <td>Gilead</td>\n",
       "      <td>Marilynne Robinson</td>\n",
       "      <td>Fiction</td>\n",
       "      <td>http://books.google.com/books/content?id=KQZCP...</td>\n",
       "      <td>A NOVEL THAT READERS and critics have been eag...</td>\n",
       "      <td>2004.0</td>\n",
       "      <td>3.85</td>\n",
       "      <td>247.0</td>\n",
       "      <td>...</td>\n",
       "      <td>Gilead</td>\n",
       "      <td>9780002005883 A NOVEL THAT READERS and critics...</td>\n",
       "      <td>Fiction</td>\n",
       "      <td>0.051973</td>\n",
       "      <td>0.273590</td>\n",
       "      <td>0.928169</td>\n",
       "      <td>0.932798</td>\n",
       "      <td>0.646216</td>\n",
       "      <td>0.967158</td>\n",
       "      <td>0.729603</td>\n",
       "    </tr>\n",
       "    <tr>\n",
       "      <th>1</th>\n",
       "      <td>9780002261982</td>\n",
       "      <td>0002261987</td>\n",
       "      <td>Spider's Web</td>\n",
       "      <td>Charles Osborne;Agatha Christie</td>\n",
       "      <td>Detective and mystery stories</td>\n",
       "      <td>http://books.google.com/books/content?id=gA5GP...</td>\n",
       "      <td>A new 'Christie for Christmas' -- a full-lengt...</td>\n",
       "      <td>2000.0</td>\n",
       "      <td>3.83</td>\n",
       "      <td>241.0</td>\n",
       "      <td>...</td>\n",
       "      <td>Spider's Web: A Novel</td>\n",
       "      <td>9780002261982 A new 'Christie for Christmas' -...</td>\n",
       "      <td>Fiction</td>\n",
       "      <td>0.612618</td>\n",
       "      <td>0.348286</td>\n",
       "      <td>0.942528</td>\n",
       "      <td>0.704421</td>\n",
       "      <td>0.887940</td>\n",
       "      <td>0.074825</td>\n",
       "      <td>0.252545</td>\n",
       "    </tr>\n",
       "    <tr>\n",
       "      <th>2</th>\n",
       "      <td>9780006178736</td>\n",
       "      <td>0006178731</td>\n",
       "      <td>Rage of angels</td>\n",
       "      <td>Sidney Sheldon</td>\n",
       "      <td>Fiction</td>\n",
       "      <td>http://books.google.com/books/content?id=FKo2T...</td>\n",
       "      <td>A memorable, mesmerizing heroine Jennifer -- b...</td>\n",
       "      <td>1993.0</td>\n",
       "      <td>3.93</td>\n",
       "      <td>512.0</td>\n",
       "      <td>...</td>\n",
       "      <td>Rage of angels</td>\n",
       "      <td>9780006178736 A memorable, mesmerizing heroine...</td>\n",
       "      <td>Fiction</td>\n",
       "      <td>0.051973</td>\n",
       "      <td>0.157667</td>\n",
       "      <td>0.972321</td>\n",
       "      <td>0.767237</td>\n",
       "      <td>0.608933</td>\n",
       "      <td>0.074825</td>\n",
       "      <td>0.046931</td>\n",
       "    </tr>\n",
       "    <tr>\n",
       "      <th>3</th>\n",
       "      <td>9780006280897</td>\n",
       "      <td>0006280897</td>\n",
       "      <td>The Four Loves</td>\n",
       "      <td>Clive Staples Lewis</td>\n",
       "      <td>Christian life</td>\n",
       "      <td>http://books.google.com/books/content?id=XhQ5X...</td>\n",
       "      <td>Lewis' work on the nature of love divides love...</td>\n",
       "      <td>2002.0</td>\n",
       "      <td>4.15</td>\n",
       "      <td>170.0</td>\n",
       "      <td>...</td>\n",
       "      <td>The Four Loves</td>\n",
       "      <td>9780006280897 Lewis' work on the nature of lov...</td>\n",
       "      <td>Nonfiction</td>\n",
       "      <td>0.351483</td>\n",
       "      <td>0.157667</td>\n",
       "      <td>0.360707</td>\n",
       "      <td>0.251881</td>\n",
       "      <td>0.732687</td>\n",
       "      <td>0.074825</td>\n",
       "      <td>0.046931</td>\n",
       "    </tr>\n",
       "    <tr>\n",
       "      <th>4</th>\n",
       "      <td>9780006280934</td>\n",
       "      <td>0006280935</td>\n",
       "      <td>The Problem of Pain</td>\n",
       "      <td>Clive Staples Lewis</td>\n",
       "      <td>Christian life</td>\n",
       "      <td>http://books.google.com/books/content?id=Kk-uV...</td>\n",
       "      <td>\"In The Problem of Pain, C.S. Lewis, one of th...</td>\n",
       "      <td>2002.0</td>\n",
       "      <td>4.09</td>\n",
       "      <td>176.0</td>\n",
       "      <td>...</td>\n",
       "      <td>The Problem of Pain</td>\n",
       "      <td>9780006280934 \"In The Problem of Pain, C.S. Le...</td>\n",
       "      <td>Nonfiction</td>\n",
       "      <td>0.081412</td>\n",
       "      <td>0.184495</td>\n",
       "      <td>0.095043</td>\n",
       "      <td>0.035207</td>\n",
       "      <td>0.925904</td>\n",
       "      <td>0.475881</td>\n",
       "      <td>0.046931</td>\n",
       "    </tr>\n",
       "    <tr>\n",
       "      <th>...</th>\n",
       "      <td>...</td>\n",
       "      <td>...</td>\n",
       "      <td>...</td>\n",
       "      <td>...</td>\n",
       "      <td>...</td>\n",
       "      <td>...</td>\n",
       "      <td>...</td>\n",
       "      <td>...</td>\n",
       "      <td>...</td>\n",
       "      <td>...</td>\n",
       "      <td>...</td>\n",
       "      <td>...</td>\n",
       "      <td>...</td>\n",
       "      <td>...</td>\n",
       "      <td>...</td>\n",
       "      <td>...</td>\n",
       "      <td>...</td>\n",
       "      <td>...</td>\n",
       "      <td>...</td>\n",
       "      <td>...</td>\n",
       "      <td>...</td>\n",
       "    </tr>\n",
       "    <tr>\n",
       "      <th>5192</th>\n",
       "      <td>9788172235222</td>\n",
       "      <td>8172235224</td>\n",
       "      <td>Mistaken Identity</td>\n",
       "      <td>Nayantara Sahgal</td>\n",
       "      <td>Indic fiction (English)</td>\n",
       "      <td>http://books.google.com/books/content?id=q-tKP...</td>\n",
       "      <td>On A Train Journey Home To North India After L...</td>\n",
       "      <td>2003.0</td>\n",
       "      <td>2.93</td>\n",
       "      <td>324.0</td>\n",
       "      <td>...</td>\n",
       "      <td>Mistaken Identity</td>\n",
       "      <td>9788172235222 On A Train Journey Home To North...</td>\n",
       "      <td>Fiction</td>\n",
       "      <td>0.148209</td>\n",
       "      <td>0.030642</td>\n",
       "      <td>0.919165</td>\n",
       "      <td>0.255170</td>\n",
       "      <td>0.853722</td>\n",
       "      <td>0.980877</td>\n",
       "      <td>0.030656</td>\n",
       "    </tr>\n",
       "    <tr>\n",
       "      <th>5193</th>\n",
       "      <td>9788173031014</td>\n",
       "      <td>8173031010</td>\n",
       "      <td>Journey to the East</td>\n",
       "      <td>Hermann Hesse</td>\n",
       "      <td>Adventure stories</td>\n",
       "      <td>http://books.google.com/books/content?id=rq6JP...</td>\n",
       "      <td>This book tells the tale of a man who goes on ...</td>\n",
       "      <td>2002.0</td>\n",
       "      <td>3.70</td>\n",
       "      <td>175.0</td>\n",
       "      <td>...</td>\n",
       "      <td>Journey to the East</td>\n",
       "      <td>9788173031014 This book tells the tale of a ma...</td>\n",
       "      <td>Nonfiction</td>\n",
       "      <td>0.057145</td>\n",
       "      <td>0.157667</td>\n",
       "      <td>0.038787</td>\n",
       "      <td>0.400263</td>\n",
       "      <td>0.883198</td>\n",
       "      <td>0.074825</td>\n",
       "      <td>0.227765</td>\n",
       "    </tr>\n",
       "    <tr>\n",
       "      <th>5194</th>\n",
       "      <td>9788179921623</td>\n",
       "      <td>817992162X</td>\n",
       "      <td>The Monk Who Sold His Ferrari: A Fable About F...</td>\n",
       "      <td>Robin Sharma</td>\n",
       "      <td>Health &amp; Fitness</td>\n",
       "      <td>http://books.google.com/books/content?id=c_7mf...</td>\n",
       "      <td>Wisdom to Create a Life of Passion, Purpose, a...</td>\n",
       "      <td>2003.0</td>\n",
       "      <td>3.82</td>\n",
       "      <td>198.0</td>\n",
       "      <td>...</td>\n",
       "      <td>The Monk Who Sold His Ferrari: A Fable About F...</td>\n",
       "      <td>9788179921623 Wisdom to Create a Life of Passi...</td>\n",
       "      <td>Fiction</td>\n",
       "      <td>0.009997</td>\n",
       "      <td>0.009929</td>\n",
       "      <td>0.339216</td>\n",
       "      <td>0.947778</td>\n",
       "      <td>0.375756</td>\n",
       "      <td>0.066685</td>\n",
       "      <td>0.057625</td>\n",
       "    </tr>\n",
       "    <tr>\n",
       "      <th>5195</th>\n",
       "      <td>9788185300535</td>\n",
       "      <td>8185300534</td>\n",
       "      <td>I Am that</td>\n",
       "      <td>Sri Nisargadatta Maharaj;Sudhakar S. Dikshit</td>\n",
       "      <td>Philosophy</td>\n",
       "      <td>http://books.google.com/books/content?id=Fv_JP...</td>\n",
       "      <td>This collection of the timeless teachings of o...</td>\n",
       "      <td>1999.0</td>\n",
       "      <td>4.51</td>\n",
       "      <td>531.0</td>\n",
       "      <td>...</td>\n",
       "      <td>I Am that: Talks with Sri Nisargadatta Maharaj</td>\n",
       "      <td>9788185300535 This collection of the timeless ...</td>\n",
       "      <td>Nonfiction</td>\n",
       "      <td>0.051973</td>\n",
       "      <td>0.157667</td>\n",
       "      <td>0.459269</td>\n",
       "      <td>0.759455</td>\n",
       "      <td>0.951104</td>\n",
       "      <td>0.368109</td>\n",
       "      <td>0.067808</td>\n",
       "    </tr>\n",
       "    <tr>\n",
       "      <th>5196</th>\n",
       "      <td>9789027712059</td>\n",
       "      <td>9027712050</td>\n",
       "      <td>The Berlin Phenomenology</td>\n",
       "      <td>Georg Wilhelm Friedrich Hegel</td>\n",
       "      <td>History</td>\n",
       "      <td>http://books.google.com/books/content?id=Vy7Sk...</td>\n",
       "      <td>Since the three volume edition ofHegel's Philo...</td>\n",
       "      <td>1981.0</td>\n",
       "      <td>0.00</td>\n",
       "      <td>210.0</td>\n",
       "      <td>...</td>\n",
       "      <td>The Berlin Phenomenology</td>\n",
       "      <td>9789027712059 Since the three volume edition o...</td>\n",
       "      <td>Nonfiction</td>\n",
       "      <td>0.051973</td>\n",
       "      <td>0.157667</td>\n",
       "      <td>0.038787</td>\n",
       "      <td>0.958549</td>\n",
       "      <td>0.915193</td>\n",
       "      <td>0.074825</td>\n",
       "      <td>0.046931</td>\n",
       "    </tr>\n",
       "  </tbody>\n",
       "</table>\n",
       "<p>5197 rows × 21 columns</p>\n",
       "</div>"
      ]
     },
     "execution_count": 28,
     "metadata": {},
     "output_type": "execute_result"
    }
   ],
   "execution_count": 28
  },
  {
   "metadata": {
    "ExecuteTime": {
     "end_time": "2025-09-08T23:35:38.508509Z",
     "start_time": "2025-09-08T23:35:38.376854Z"
    }
   },
   "cell_type": "code",
   "source": "books.to_csv(\"books_with_emotions.csv\", index=False)",
   "id": "8bb73f572d6f37d4",
   "outputs": [],
   "execution_count": 29
  },
  {
   "metadata": {},
   "cell_type": "code",
   "outputs": [],
   "execution_count": null,
   "source": "",
   "id": "e7db173aa58028d"
  }
 ],
 "metadata": {
  "kernelspec": {
   "display_name": "Python 3",
   "language": "python",
   "name": "python3"
  },
  "language_info": {
   "codemirror_mode": {
    "name": "ipython",
    "version": 2
   },
   "file_extension": ".py",
   "mimetype": "text/x-python",
   "name": "python",
   "nbconvert_exporter": "python",
   "pygments_lexer": "ipython2",
   "version": "2.7.6"
  }
 },
 "nbformat": 4,
 "nbformat_minor": 5
}
